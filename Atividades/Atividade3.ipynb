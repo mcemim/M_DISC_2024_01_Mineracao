{
 "cells": [
  {
   "cell_type": "markdown",
   "metadata": {},
   "source": [
    "Considere a base de Dados Trip Advisor Hotel Reviews:  \n",
    "\n",
    "https://www.kaggle.com/datasets/andrewmvd/trip-advisor-hotel-reviews\n",
    "1) Aplicar a limpeza da base de dados: Stopwords, caracteres especiais e stemming;\n",
    "2) Transformar a base de dados em atributos numéricos: abordagens `CountVectorizer` e normalização `TfidfTransformer`;\n",
    "3) Avaliar com os classificadores árvore de decisão e random forest\n",
    "\n",
    "  "
   ]
  },
  {
   "cell_type": "markdown",
   "metadata": {},
   "source": [
    "## Importando bibliotecas e dados"
   ]
  },
  {
   "cell_type": "code",
   "execution_count": null,
   "metadata": {},
   "outputs": [],
   "source": [
    "import pandas as pd\n",
    "import numpy as np\n",
    "import matplotlib.pyplot as plt\n",
    "import seaborn as sns\n",
    "import re \n",
    "import nltk \n",
    "from sklearn.feature_extraction.text import CountVectorizer\n",
    "from sklearn.model_selection import train_test_split\n",
    "from sklearn.feature_extraction.text import TfidfTransformer\n",
    "from sklearn.metrics import confusion_matrix, ConfusionMatrixDisplay\n",
    "from sklearn.metrics import (recall_score,\n",
    "                             accuracy_score,\n",
    "                             precision_score,\n",
    "                             f1_score)\n",
    "from sklearn.metrics import classification_report\n",
    "from sklearn.tree import DecisionTreeClassifier\n",
    "from sklearn.ensemble import RandomForestClassifier\n",
    "\n",
    "import warnings\n",
    "warnings.filterwarnings('ignore')\n"
   ]
  },
  {
   "cell_type": "code",
   "execution_count": null,
   "metadata": {},
   "outputs": [],
   "source": [
    "# Download dos itens necessários do NLTK\n",
    "nltk.download('stopwords')\n",
    "nltk.download('rslp')\n",
    "nltk.download('punkt')"
   ]
  },
  {
   "cell_type": "code",
   "execution_count": null,
   "metadata": {},
   "outputs": [],
   "source": [
    "df = pd.read_csv(\"../Atividades/dados/tripadvisor_hotel_reviews.csv\")\n",
    "df.head()"
   ]
  },
  {
   "cell_type": "markdown",
   "metadata": {},
   "source": [
    "## Fazendo os estudos e limpezas iniciais na base"
   ]
  },
  {
   "cell_type": "code",
   "execution_count": null,
   "metadata": {},
   "outputs": [],
   "source": [
    "df.info()"
   ]
  },
  {
   "cell_type": "code",
   "execution_count": null,
   "metadata": {},
   "outputs": [],
   "source": [
    "df.shape"
   ]
  },
  {
   "cell_type": "markdown",
   "metadata": {},
   "source": [
    "Podemos perceber que não existem valores faltantes na base."
   ]
  },
  {
   "cell_type": "code",
   "execution_count": null,
   "metadata": {},
   "outputs": [],
   "source": [
    "df['Rating'].value_counts()"
   ]
  },
  {
   "cell_type": "code",
   "execution_count": null,
   "metadata": {},
   "outputs": [],
   "source": [
    "# Redução do número de labels em 'class'\n",
    "def change_rating(x):\n",
    "  if x > 3:\n",
    "    return \"Positive Rating\"\n",
    "  return \"Negative Rating\""
   ]
  },
  {
   "cell_type": "code",
   "execution_count": null,
   "metadata": {},
   "outputs": [],
   "source": [
    "# ALtera na Base de Dados (Dataframe)\n",
    "df['classe'] = df['Rating'].apply(change_rating)\n",
    "df.drop(columns='Rating', inplace=True)\n",
    "df.head()"
   ]
  },
  {
   "cell_type": "code",
   "execution_count": null,
   "metadata": {},
   "outputs": [],
   "source": [
    "df['classe'].value_counts()"
   ]
  },
  {
   "cell_type": "markdown",
   "metadata": {},
   "source": [
    "## 1) Aplicar a limpeza da base de dados: Stopwords, caracteres especiais e stemming;"
   ]
  },
  {
   "cell_type": "code",
   "execution_count": null,
   "metadata": {},
   "outputs": [],
   "source": [
    "# Remoção de duplicados\n",
    "print(df.shape)\n",
    "df.drop_duplicates(['Review'], inplace=True)\n",
    "print(df.shape)"
   ]
  },
  {
   "cell_type": "markdown",
   "metadata": {},
   "source": [
    "Nenhum valor duplicado foi encontrado. "
   ]
  },
  {
   "cell_type": "code",
   "execution_count": null,
   "metadata": {},
   "outputs": [],
   "source": [
    "# Remoção de Stopwords\n",
    "\n",
    "def Remover_StopWords( Texto ):\n",
    "\n",
    "    Lista_Palavras = Texto.split()\n",
    "\n",
    "    # Texto sem as stopwords\n",
    "    nova_frase = ''\n",
    "\n",
    "    for word in Lista_Palavras:\n",
    "        if word not in nltk.corpus.stopwords.words('english'):\n",
    "            nova_frase = nova_frase + ' ' + word\n",
    "\n",
    "    return nova_frase\n",
    "\n",
    "df['Review'] = df['Review'].apply(Remover_StopWords)\n",
    "\n",
    "df.head()"
   ]
  },
  {
   "cell_type": "code",
   "execution_count": null,
   "metadata": {},
   "outputs": [],
   "source": [
    "# Limpeza de caracteres especiais, links e números\n",
    "\n",
    "def Limpeza_Dados( Texto ):\n",
    "    # Remoção de links\n",
    "    etapa_01 = re.sub('www\\S+', '', Texto)\n",
    "\n",
    "    # Transformar para minúsculo\n",
    "    etapa_02 = etapa_01.lower()\n",
    "\n",
    "    # Remoção de carcateres epeciais\n",
    "    etapa_03 = re.sub(r'[!~@#$%^&*()+=|{}[\\]:;<.>?/\\'\\\\\",-]', '', etapa_02)\n",
    "\n",
    "    # Remoção de números\n",
    "    etapa_04 = re.sub('[0-9]', '', etapa_03)\n",
    "\n",
    "    return etapa_04 \n",
    "\n",
    "# Limpeza em todas as amostras\n",
    "df['Review'] = df['Review'].apply(Limpeza_Dados)\n",
    "\n",
    "df.head()"
   ]
  },
  {
   "cell_type": "code",
   "execution_count": null,
   "metadata": {},
   "outputs": [],
   "source": [
    "# Transformação em Radical (Stemming)\n",
    "\n",
    "Stem = nltk.stem.RSLPStemmer()\n",
    "\n",
    "def Extrair_Radical( Texto ):\n",
    "\n",
    "    Lista_Palavras = Texto.split()\n",
    "    nova_frase = ''\n",
    "\n",
    "    for word in Lista_Palavras:\n",
    "        radical = Stem.stem(word)\n",
    "        nova_frase = nova_frase + ' ' + radical\n",
    "    \n",
    "    return nova_frase\n",
    "\n",
    "\n",
    "df['Review'] = df['Review'].apply(Extrair_Radical)\n",
    "df.head()"
   ]
  },
  {
   "cell_type": "markdown",
   "metadata": {},
   "source": [
    "## 2) Transformar a base de dados em atributos numéricos: abordagens `CountVectorizer` e normalização `TfidfTransformer`;"
   ]
  },
  {
   "cell_type": "code",
   "execution_count": null,
   "metadata": {},
   "outputs": [],
   "source": [
    "df.head()"
   ]
  },
  {
   "cell_type": "code",
   "execution_count": null,
   "metadata": {},
   "outputs": [],
   "source": [
    "# Separar entre previsores e classe\n",
    "X = df['Review']\n",
    "y = df['classe']"
   ]
  },
  {
   "cell_type": "code",
   "execution_count": null,
   "metadata": {},
   "outputs": [],
   "source": [
    "X_train, X_test, y_train, y_test = train_test_split(X,y, test_size = 0.3)"
   ]
  },
  {
   "cell_type": "code",
   "execution_count": null,
   "metadata": {},
   "outputs": [],
   "source": [
    "# Aplicar a trasnformação com CountVectorizer()\n",
    "vect = CountVectorizer()\n",
    "\n",
    "vect.fit(X_train)\n",
    "X_train_vect = vect.transform(X_train)\n",
    "X_test_vect = vect.transform(X_test)"
   ]
  },
  {
   "cell_type": "code",
   "execution_count": null,
   "metadata": {},
   "outputs": [],
   "source": [
    "Tfidf = TfidfTransformer()\n",
    "X_train_vect = Tfidf.fit_transform(X_train_vect)\n",
    "X_test_vect = Tfidf.fit_transform(X_test_vect)"
   ]
  },
  {
   "cell_type": "code",
   "execution_count": null,
   "metadata": {},
   "outputs": [],
   "source": [
    "print(X_train_vect.shape)\n",
    "print(X_test_vect.shape)\n",
    "print(y_train.shape)\n",
    "print(y_test.shape)"
   ]
  },
  {
   "cell_type": "markdown",
   "metadata": {},
   "source": [
    "## 3) Avaliar com os classificadores árvore de decisão e random forest"
   ]
  },
  {
   "cell_type": "code",
   "execution_count": null,
   "metadata": {},
   "outputs": [],
   "source": [
    "# Instanciando o modelo\n",
    "decTree = DecisionTreeClassifier()\n",
    "\n",
    "# Treinamento\n",
    "decTree.fit(X_train_vect, y_train)\n",
    "decTree_pred = decTree.predict(X_test_vect)"
   ]
  },
  {
   "cell_type": "code",
   "execution_count": null,
   "metadata": {},
   "outputs": [],
   "source": [
    "# Instanciando o modelo\n",
    "ranForest = RandomForestClassifier()\n",
    "\n",
    "# Treinamento\n",
    "ranForest.fit(X_train_vect, y_train)\n",
    "ranForest_pred = ranForest.predict(X_test_vect)"
   ]
  },
  {
   "cell_type": "code",
   "execution_count": null,
   "metadata": {},
   "outputs": [],
   "source": [
    "cm = confusion_matrix(y_test, decTree_pred)\n",
    "ConfusionMatrixDisplay(cm).plot()\n",
    "plt.title(\"Classificador Decision Tree\")\n",
    "plt.show()\n",
    "cm = confusion_matrix(y_test, ranForest_pred)\n",
    "ConfusionMatrixDisplay(cm).plot()\n",
    "plt.title(\"Classificador Random Forest\")\n",
    "plt.show()"
   ]
  },
  {
   "cell_type": "code",
   "execution_count": null,
   "metadata": {},
   "outputs": [],
   "source": [
    "# Avaliacao\n",
    "\n",
    "print(\"Decision Tree Classifier\")\n",
    "print( classification_report( y_test, decTree_pred ) )\n",
    "print(\"Random Forest Classifier\")\n",
    "print( classification_report( y_test, ranForest_pred ) )"
   ]
  },
  {
   "cell_type": "markdown",
   "metadata": {},
   "source": [
    "Portanto, conclui-se que o modelo Random Forest possui uma aderência melhor à esta base de dados.   \n",
    "porém, devido ao desbalanceamento das amostras (~75% de classificações positivas), o modelo tem um score melhor quando tentamos predizer classificações positivas. "
   ]
  }
 ],
 "metadata": {
  "kernelspec": {
   "display_name": ".venv",
   "language": "python",
   "name": "python3"
  },
  "language_info": {
   "codemirror_mode": {
    "name": "ipython",
    "version": 3
   },
   "file_extension": ".py",
   "mimetype": "text/x-python",
   "name": "python",
   "nbconvert_exporter": "python",
   "pygments_lexer": "ipython3",
   "version": "3.12.0"
  }
 },
 "nbformat": 4,
 "nbformat_minor": 2
}
