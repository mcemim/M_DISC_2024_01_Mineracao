{
 "cells": [
  {
   "cell_type": "markdown",
   "metadata": {},
   "source": [
    "Considere a base de Dados Trip Advisor Hotel Reviews:  \n",
    "\n",
    "https://www.kaggle.com/datasets/andrewmvd/trip-advisor-hotel-reviews\n",
    "1) Aplicar a limpeza da base de dados: Stopwords, caracteres especiais e stemming;\n",
    "2) Transformar a base de dados em atributos numéricos: abordagens `CountVectorizer` e normalização `TfidfTransformer`;\n",
    "3) Avaliar com os classificadores árvore de decisão e random forest\n",
    "\n",
    "  "
   ]
  },
  {
   "cell_type": "markdown",
   "metadata": {},
   "source": [
    "## Importando bibliotecas e dados"
   ]
  },
  {
   "cell_type": "code",
   "execution_count": 1,
   "metadata": {},
   "outputs": [],
   "source": [
    "import pandas as pd\n",
    "import numpy as np\n",
    "import matplotlib.pyplot as plt\n",
    "import seaborn as sns\n",
    "import re \n",
    "import nltk \n",
    "from sklearn.feature_extraction.text import CountVectorizer\n",
    "from sklearn.model_selection import train_test_split\n",
    "from sklearn.feature_extraction.text import TfidfTransformer\n",
    "from sklearn.metrics import confusion_matrix, ConfusionMatrixDisplay\n",
    "from sklearn.metrics import (recall_score,\n",
    "                             accuracy_score,\n",
    "                             precision_score,\n",
    "                             f1_score)\n",
    "from sklearn.metrics import classification_report\n",
    "from sklearn.tree import DecisionTreeClassifier\n",
    "from sklearn.ensemble import RandomForestClassifier\n",
    "\n",
    "import warnings\n",
    "warnings.filterwarnings('ignore')\n"
   ]
  },
  {
   "cell_type": "code",
   "execution_count": 2,
   "metadata": {},
   "outputs": [
    {
     "name": "stderr",
     "output_type": "stream",
     "text": [
      "[nltk_data] Downloading package stopwords to\n",
      "[nltk_data]     C:\\Users\\mcemi\\AppData\\Roaming\\nltk_data...\n",
      "[nltk_data]   Package stopwords is already up-to-date!\n",
      "[nltk_data] Downloading package rslp to\n",
      "[nltk_data]     C:\\Users\\mcemi\\AppData\\Roaming\\nltk_data...\n",
      "[nltk_data]   Package rslp is already up-to-date!\n",
      "[nltk_data] Downloading package punkt to\n",
      "[nltk_data]     C:\\Users\\mcemi\\AppData\\Roaming\\nltk_data...\n",
      "[nltk_data]   Package punkt is already up-to-date!\n"
     ]
    },
    {
     "data": {
      "text/plain": [
       "True"
      ]
     },
     "execution_count": 2,
     "metadata": {},
     "output_type": "execute_result"
    }
   ],
   "source": [
    "# Download dos itens necessários do NLTK\n",
    "nltk.download('stopwords')\n",
    "nltk.download('rslp')\n",
    "nltk.download('punkt')"
   ]
  },
  {
   "cell_type": "code",
   "execution_count": 3,
   "metadata": {},
   "outputs": [
    {
     "data": {
      "text/html": [
       "<div>\n",
       "<style scoped>\n",
       "    .dataframe tbody tr th:only-of-type {\n",
       "        vertical-align: middle;\n",
       "    }\n",
       "\n",
       "    .dataframe tbody tr th {\n",
       "        vertical-align: top;\n",
       "    }\n",
       "\n",
       "    .dataframe thead th {\n",
       "        text-align: right;\n",
       "    }\n",
       "</style>\n",
       "<table border=\"1\" class=\"dataframe\">\n",
       "  <thead>\n",
       "    <tr style=\"text-align: right;\">\n",
       "      <th></th>\n",
       "      <th>Review</th>\n",
       "      <th>Rating</th>\n",
       "    </tr>\n",
       "  </thead>\n",
       "  <tbody>\n",
       "    <tr>\n",
       "      <th>0</th>\n",
       "      <td>nice hotel expensive parking got good deal sta...</td>\n",
       "      <td>4</td>\n",
       "    </tr>\n",
       "    <tr>\n",
       "      <th>1</th>\n",
       "      <td>ok nothing special charge diamond member hilto...</td>\n",
       "      <td>2</td>\n",
       "    </tr>\n",
       "    <tr>\n",
       "      <th>2</th>\n",
       "      <td>nice rooms not 4* experience hotel monaco seat...</td>\n",
       "      <td>3</td>\n",
       "    </tr>\n",
       "    <tr>\n",
       "      <th>3</th>\n",
       "      <td>unique, great stay, wonderful time hotel monac...</td>\n",
       "      <td>5</td>\n",
       "    </tr>\n",
       "    <tr>\n",
       "      <th>4</th>\n",
       "      <td>great stay great stay, went seahawk game aweso...</td>\n",
       "      <td>5</td>\n",
       "    </tr>\n",
       "  </tbody>\n",
       "</table>\n",
       "</div>"
      ],
      "text/plain": [
       "                                              Review  Rating\n",
       "0  nice hotel expensive parking got good deal sta...       4\n",
       "1  ok nothing special charge diamond member hilto...       2\n",
       "2  nice rooms not 4* experience hotel monaco seat...       3\n",
       "3  unique, great stay, wonderful time hotel monac...       5\n",
       "4  great stay great stay, went seahawk game aweso...       5"
      ]
     },
     "execution_count": 3,
     "metadata": {},
     "output_type": "execute_result"
    }
   ],
   "source": [
    "df = pd.read_csv(\"../Atividades/dados/tripadvisor_hotel_reviews.csv\")\n",
    "df.head()"
   ]
  },
  {
   "cell_type": "markdown",
   "metadata": {},
   "source": [
    "## Fazendo os estudos e limpezas iniciais na base"
   ]
  },
  {
   "cell_type": "code",
   "execution_count": 4,
   "metadata": {},
   "outputs": [
    {
     "name": "stdout",
     "output_type": "stream",
     "text": [
      "<class 'pandas.core.frame.DataFrame'>\n",
      "RangeIndex: 20491 entries, 0 to 20490\n",
      "Data columns (total 2 columns):\n",
      " #   Column  Non-Null Count  Dtype \n",
      "---  ------  --------------  ----- \n",
      " 0   Review  20491 non-null  object\n",
      " 1   Rating  20491 non-null  int64 \n",
      "dtypes: int64(1), object(1)\n",
      "memory usage: 320.3+ KB\n"
     ]
    }
   ],
   "source": [
    "df.info()"
   ]
  },
  {
   "cell_type": "code",
   "execution_count": 5,
   "metadata": {},
   "outputs": [
    {
     "data": {
      "text/plain": [
       "(20491, 2)"
      ]
     },
     "execution_count": 5,
     "metadata": {},
     "output_type": "execute_result"
    }
   ],
   "source": [
    "df.shape"
   ]
  },
  {
   "cell_type": "markdown",
   "metadata": {},
   "source": [
    "Podemos perceber que não existem valores faltantes na base."
   ]
  },
  {
   "cell_type": "code",
   "execution_count": 6,
   "metadata": {},
   "outputs": [
    {
     "data": {
      "text/plain": [
       "Rating\n",
       "5    9054\n",
       "4    6039\n",
       "3    2184\n",
       "2    1793\n",
       "1    1421\n",
       "Name: count, dtype: int64"
      ]
     },
     "execution_count": 6,
     "metadata": {},
     "output_type": "execute_result"
    }
   ],
   "source": [
    "df['Rating'].value_counts()"
   ]
  },
  {
   "cell_type": "code",
   "execution_count": 7,
   "metadata": {},
   "outputs": [],
   "source": [
    "# Redução do número de labels em 'class'\n",
    "def change_rating(x):\n",
    "  if x > 3:\n",
    "    return \"Positive Rating\"\n",
    "  return \"Negative Rating\""
   ]
  },
  {
   "cell_type": "code",
   "execution_count": 8,
   "metadata": {},
   "outputs": [
    {
     "data": {
      "text/html": [
       "<div>\n",
       "<style scoped>\n",
       "    .dataframe tbody tr th:only-of-type {\n",
       "        vertical-align: middle;\n",
       "    }\n",
       "\n",
       "    .dataframe tbody tr th {\n",
       "        vertical-align: top;\n",
       "    }\n",
       "\n",
       "    .dataframe thead th {\n",
       "        text-align: right;\n",
       "    }\n",
       "</style>\n",
       "<table border=\"1\" class=\"dataframe\">\n",
       "  <thead>\n",
       "    <tr style=\"text-align: right;\">\n",
       "      <th></th>\n",
       "      <th>Review</th>\n",
       "      <th>classe</th>\n",
       "    </tr>\n",
       "  </thead>\n",
       "  <tbody>\n",
       "    <tr>\n",
       "      <th>0</th>\n",
       "      <td>nice hotel expensive parking got good deal sta...</td>\n",
       "      <td>Positive Rating</td>\n",
       "    </tr>\n",
       "    <tr>\n",
       "      <th>1</th>\n",
       "      <td>ok nothing special charge diamond member hilto...</td>\n",
       "      <td>Negative Rating</td>\n",
       "    </tr>\n",
       "    <tr>\n",
       "      <th>2</th>\n",
       "      <td>nice rooms not 4* experience hotel monaco seat...</td>\n",
       "      <td>Negative Rating</td>\n",
       "    </tr>\n",
       "    <tr>\n",
       "      <th>3</th>\n",
       "      <td>unique, great stay, wonderful time hotel monac...</td>\n",
       "      <td>Positive Rating</td>\n",
       "    </tr>\n",
       "    <tr>\n",
       "      <th>4</th>\n",
       "      <td>great stay great stay, went seahawk game aweso...</td>\n",
       "      <td>Positive Rating</td>\n",
       "    </tr>\n",
       "  </tbody>\n",
       "</table>\n",
       "</div>"
      ],
      "text/plain": [
       "                                              Review           classe\n",
       "0  nice hotel expensive parking got good deal sta...  Positive Rating\n",
       "1  ok nothing special charge diamond member hilto...  Negative Rating\n",
       "2  nice rooms not 4* experience hotel monaco seat...  Negative Rating\n",
       "3  unique, great stay, wonderful time hotel monac...  Positive Rating\n",
       "4  great stay great stay, went seahawk game aweso...  Positive Rating"
      ]
     },
     "execution_count": 8,
     "metadata": {},
     "output_type": "execute_result"
    }
   ],
   "source": [
    "# ALtera na Base de Dados (Dataframe)\n",
    "df['classe'] = df['Rating'].apply(change_rating)\n",
    "df.drop(columns='Rating', inplace=True)\n",
    "df.head()"
   ]
  },
  {
   "cell_type": "code",
   "execution_count": 9,
   "metadata": {},
   "outputs": [
    {
     "data": {
      "text/plain": [
       "classe\n",
       "Positive Rating    15093\n",
       "Negative Rating     5398\n",
       "Name: count, dtype: int64"
      ]
     },
     "execution_count": 9,
     "metadata": {},
     "output_type": "execute_result"
    }
   ],
   "source": [
    "df['classe'].value_counts()"
   ]
  },
  {
   "cell_type": "markdown",
   "metadata": {},
   "source": [
    "## 1) Aplicar a limpeza da base de dados: Stopwords, caracteres especiais e stemming;"
   ]
  },
  {
   "cell_type": "code",
   "execution_count": 10,
   "metadata": {},
   "outputs": [
    {
     "name": "stdout",
     "output_type": "stream",
     "text": [
      "(20491, 2)\n",
      "(20491, 2)\n"
     ]
    }
   ],
   "source": [
    "# Remoção de duplicados\n",
    "print(df.shape)\n",
    "df.drop_duplicates(['Review'], inplace=True)\n",
    "print(df.shape)"
   ]
  },
  {
   "cell_type": "markdown",
   "metadata": {},
   "source": [
    "Nenhum valor duplicado foi encontrado. "
   ]
  },
  {
   "cell_type": "code",
   "execution_count": 11,
   "metadata": {},
   "outputs": [
    {
     "data": {
      "text/html": [
       "<div>\n",
       "<style scoped>\n",
       "    .dataframe tbody tr th:only-of-type {\n",
       "        vertical-align: middle;\n",
       "    }\n",
       "\n",
       "    .dataframe tbody tr th {\n",
       "        vertical-align: top;\n",
       "    }\n",
       "\n",
       "    .dataframe thead th {\n",
       "        text-align: right;\n",
       "    }\n",
       "</style>\n",
       "<table border=\"1\" class=\"dataframe\">\n",
       "  <thead>\n",
       "    <tr style=\"text-align: right;\">\n",
       "      <th></th>\n",
       "      <th>Review</th>\n",
       "      <th>classe</th>\n",
       "    </tr>\n",
       "  </thead>\n",
       "  <tbody>\n",
       "    <tr>\n",
       "      <th>0</th>\n",
       "      <td>nice hotel expensive parking got good deal st...</td>\n",
       "      <td>Positive Rating</td>\n",
       "    </tr>\n",
       "    <tr>\n",
       "      <th>1</th>\n",
       "      <td>ok nothing special charge diamond member hilt...</td>\n",
       "      <td>Negative Rating</td>\n",
       "    </tr>\n",
       "    <tr>\n",
       "      <th>2</th>\n",
       "      <td>nice rooms 4* experience hotel monaco seattle...</td>\n",
       "      <td>Negative Rating</td>\n",
       "    </tr>\n",
       "    <tr>\n",
       "      <th>3</th>\n",
       "      <td>unique, great stay, wonderful time hotel mona...</td>\n",
       "      <td>Positive Rating</td>\n",
       "    </tr>\n",
       "    <tr>\n",
       "      <th>4</th>\n",
       "      <td>great stay great stay, went seahawk game awes...</td>\n",
       "      <td>Positive Rating</td>\n",
       "    </tr>\n",
       "  </tbody>\n",
       "</table>\n",
       "</div>"
      ],
      "text/plain": [
       "                                              Review           classe\n",
       "0   nice hotel expensive parking got good deal st...  Positive Rating\n",
       "1   ok nothing special charge diamond member hilt...  Negative Rating\n",
       "2   nice rooms 4* experience hotel monaco seattle...  Negative Rating\n",
       "3   unique, great stay, wonderful time hotel mona...  Positive Rating\n",
       "4   great stay great stay, went seahawk game awes...  Positive Rating"
      ]
     },
     "execution_count": 11,
     "metadata": {},
     "output_type": "execute_result"
    }
   ],
   "source": [
    "# Remoção de Stopwords\n",
    "\n",
    "def Remover_StopWords( Texto ):\n",
    "\n",
    "    Lista_Palavras = Texto.split()\n",
    "\n",
    "    # Texto sem as stopwords\n",
    "    nova_frase = ''\n",
    "\n",
    "    for word in Lista_Palavras:\n",
    "        if word not in nltk.corpus.stopwords.words('english'):\n",
    "            nova_frase = nova_frase + ' ' + word\n",
    "\n",
    "    return nova_frase\n",
    "\n",
    "df['Review'] = df['Review'].apply(Remover_StopWords)\n",
    "\n",
    "df.head()"
   ]
  },
  {
   "cell_type": "code",
   "execution_count": 12,
   "metadata": {},
   "outputs": [
    {
     "data": {
      "text/html": [
       "<div>\n",
       "<style scoped>\n",
       "    .dataframe tbody tr th:only-of-type {\n",
       "        vertical-align: middle;\n",
       "    }\n",
       "\n",
       "    .dataframe tbody tr th {\n",
       "        vertical-align: top;\n",
       "    }\n",
       "\n",
       "    .dataframe thead th {\n",
       "        text-align: right;\n",
       "    }\n",
       "</style>\n",
       "<table border=\"1\" class=\"dataframe\">\n",
       "  <thead>\n",
       "    <tr style=\"text-align: right;\">\n",
       "      <th></th>\n",
       "      <th>Review</th>\n",
       "      <th>classe</th>\n",
       "    </tr>\n",
       "  </thead>\n",
       "  <tbody>\n",
       "    <tr>\n",
       "      <th>0</th>\n",
       "      <td>nice hotel expensive parking got good deal st...</td>\n",
       "      <td>Positive Rating</td>\n",
       "    </tr>\n",
       "    <tr>\n",
       "      <th>1</th>\n",
       "      <td>ok nothing special charge diamond member hilt...</td>\n",
       "      <td>Negative Rating</td>\n",
       "    </tr>\n",
       "    <tr>\n",
       "      <th>2</th>\n",
       "      <td>nice rooms  experience hotel monaco seattle g...</td>\n",
       "      <td>Negative Rating</td>\n",
       "    </tr>\n",
       "    <tr>\n",
       "      <th>3</th>\n",
       "      <td>unique great stay wonderful time hotel monaco...</td>\n",
       "      <td>Positive Rating</td>\n",
       "    </tr>\n",
       "    <tr>\n",
       "      <th>4</th>\n",
       "      <td>great stay great stay went seahawk game aweso...</td>\n",
       "      <td>Positive Rating</td>\n",
       "    </tr>\n",
       "  </tbody>\n",
       "</table>\n",
       "</div>"
      ],
      "text/plain": [
       "                                              Review           classe\n",
       "0   nice hotel expensive parking got good deal st...  Positive Rating\n",
       "1   ok nothing special charge diamond member hilt...  Negative Rating\n",
       "2   nice rooms  experience hotel monaco seattle g...  Negative Rating\n",
       "3   unique great stay wonderful time hotel monaco...  Positive Rating\n",
       "4   great stay great stay went seahawk game aweso...  Positive Rating"
      ]
     },
     "execution_count": 12,
     "metadata": {},
     "output_type": "execute_result"
    }
   ],
   "source": [
    "# Limpeza de caracteres especiais, links e números\n",
    "\n",
    "def Limpeza_Dados( Texto ):\n",
    "    # Remoção de links\n",
    "    etapa_01 = re.sub('www\\S+', '', Texto)\n",
    "\n",
    "    # Transformar para minúsculo\n",
    "    etapa_02 = etapa_01.lower()\n",
    "\n",
    "    # Remoção de carcateres epeciais\n",
    "    etapa_03 = re.sub(r'[!~@#$%^&*()+=|{}[\\]:;<.>?/\\'\\\\\",-]', '', etapa_02)\n",
    "\n",
    "    # Remoção de números\n",
    "    etapa_04 = re.sub('[0-9]', '', etapa_03)\n",
    "\n",
    "    return etapa_04 \n",
    "\n",
    "# Limpeza em todas as amostras\n",
    "df['Review'] = df['Review'].apply(Limpeza_Dados)\n",
    "\n",
    "df.head()"
   ]
  },
  {
   "cell_type": "code",
   "execution_count": 13,
   "metadata": {},
   "outputs": [
    {
     "data": {
      "text/html": [
       "<div>\n",
       "<style scoped>\n",
       "    .dataframe tbody tr th:only-of-type {\n",
       "        vertical-align: middle;\n",
       "    }\n",
       "\n",
       "    .dataframe tbody tr th {\n",
       "        vertical-align: top;\n",
       "    }\n",
       "\n",
       "    .dataframe thead th {\n",
       "        text-align: right;\n",
       "    }\n",
       "</style>\n",
       "<table border=\"1\" class=\"dataframe\">\n",
       "  <thead>\n",
       "    <tr style=\"text-align: right;\">\n",
       "      <th></th>\n",
       "      <th>Review</th>\n",
       "      <th>classe</th>\n",
       "    </tr>\n",
       "  </thead>\n",
       "  <tbody>\n",
       "    <tr>\n",
       "      <th>0</th>\n",
       "      <td>nic hotel expensiv parking got good deal stay...</td>\n",
       "      <td>Positive Rating</td>\n",
       "    </tr>\n",
       "    <tr>\n",
       "      <th>1</th>\n",
       "      <td>ok nothing spec charg diamond memb hilton dec...</td>\n",
       "      <td>Negative Rating</td>\n",
       "    </tr>\n",
       "    <tr>\n",
       "      <th>2</th>\n",
       "      <td>nic room experienc hotel monac seattl good ho...</td>\n",
       "      <td>Negative Rating</td>\n",
       "    </tr>\n",
       "    <tr>\n",
       "      <th>3</th>\n",
       "      <td>uniqu great stay wonderful tim hotel monac lo...</td>\n",
       "      <td>Positive Rating</td>\n",
       "    </tr>\n",
       "    <tr>\n",
       "      <th>4</th>\n",
       "      <td>great stay great stay went seahawk gam awesom...</td>\n",
       "      <td>Positive Rating</td>\n",
       "    </tr>\n",
       "  </tbody>\n",
       "</table>\n",
       "</div>"
      ],
      "text/plain": [
       "                                              Review           classe\n",
       "0   nic hotel expensiv parking got good deal stay...  Positive Rating\n",
       "1   ok nothing spec charg diamond memb hilton dec...  Negative Rating\n",
       "2   nic room experienc hotel monac seattl good ho...  Negative Rating\n",
       "3   uniqu great stay wonderful tim hotel monac lo...  Positive Rating\n",
       "4   great stay great stay went seahawk gam awesom...  Positive Rating"
      ]
     },
     "execution_count": 13,
     "metadata": {},
     "output_type": "execute_result"
    }
   ],
   "source": [
    "# Transformação em Radical (Stemming)\n",
    "\n",
    "Stem = nltk.stem.RSLPStemmer()\n",
    "\n",
    "def Extrair_Radical( Texto ):\n",
    "\n",
    "    Lista_Palavras = Texto.split()\n",
    "    nova_frase = ''\n",
    "\n",
    "    for word in Lista_Palavras:\n",
    "        radical = Stem.stem(word)\n",
    "        nova_frase = nova_frase + ' ' + radical\n",
    "    \n",
    "    return nova_frase\n",
    "\n",
    "\n",
    "df['Review'] = df['Review'].apply(Extrair_Radical)\n",
    "df.head()"
   ]
  },
  {
   "cell_type": "markdown",
   "metadata": {},
   "source": [
    "## 2) Transformar a base de dados em atributos numéricos: abordagens `CountVectorizer` e normalização `TfidfTransformer`;"
   ]
  },
  {
   "cell_type": "code",
   "execution_count": 14,
   "metadata": {},
   "outputs": [
    {
     "data": {
      "text/html": [
       "<div>\n",
       "<style scoped>\n",
       "    .dataframe tbody tr th:only-of-type {\n",
       "        vertical-align: middle;\n",
       "    }\n",
       "\n",
       "    .dataframe tbody tr th {\n",
       "        vertical-align: top;\n",
       "    }\n",
       "\n",
       "    .dataframe thead th {\n",
       "        text-align: right;\n",
       "    }\n",
       "</style>\n",
       "<table border=\"1\" class=\"dataframe\">\n",
       "  <thead>\n",
       "    <tr style=\"text-align: right;\">\n",
       "      <th></th>\n",
       "      <th>Review</th>\n",
       "      <th>classe</th>\n",
       "    </tr>\n",
       "  </thead>\n",
       "  <tbody>\n",
       "    <tr>\n",
       "      <th>0</th>\n",
       "      <td>nic hotel expensiv parking got good deal stay...</td>\n",
       "      <td>Positive Rating</td>\n",
       "    </tr>\n",
       "    <tr>\n",
       "      <th>1</th>\n",
       "      <td>ok nothing spec charg diamond memb hilton dec...</td>\n",
       "      <td>Negative Rating</td>\n",
       "    </tr>\n",
       "    <tr>\n",
       "      <th>2</th>\n",
       "      <td>nic room experienc hotel monac seattl good ho...</td>\n",
       "      <td>Negative Rating</td>\n",
       "    </tr>\n",
       "    <tr>\n",
       "      <th>3</th>\n",
       "      <td>uniqu great stay wonderful tim hotel monac lo...</td>\n",
       "      <td>Positive Rating</td>\n",
       "    </tr>\n",
       "    <tr>\n",
       "      <th>4</th>\n",
       "      <td>great stay great stay went seahawk gam awesom...</td>\n",
       "      <td>Positive Rating</td>\n",
       "    </tr>\n",
       "  </tbody>\n",
       "</table>\n",
       "</div>"
      ],
      "text/plain": [
       "                                              Review           classe\n",
       "0   nic hotel expensiv parking got good deal stay...  Positive Rating\n",
       "1   ok nothing spec charg diamond memb hilton dec...  Negative Rating\n",
       "2   nic room experienc hotel monac seattl good ho...  Negative Rating\n",
       "3   uniqu great stay wonderful tim hotel monac lo...  Positive Rating\n",
       "4   great stay great stay went seahawk gam awesom...  Positive Rating"
      ]
     },
     "execution_count": 14,
     "metadata": {},
     "output_type": "execute_result"
    }
   ],
   "source": [
    "df.head()"
   ]
  },
  {
   "cell_type": "code",
   "execution_count": 15,
   "metadata": {},
   "outputs": [],
   "source": [
    "# Separar entre previsores e classe\n",
    "X = df['Review']\n",
    "y = df['classe']"
   ]
  },
  {
   "cell_type": "code",
   "execution_count": 16,
   "metadata": {},
   "outputs": [],
   "source": [
    "X_train, X_test, y_train, y_test = train_test_split(X,y, test_size = 0.3)"
   ]
  },
  {
   "cell_type": "code",
   "execution_count": 17,
   "metadata": {},
   "outputs": [],
   "source": [
    "# Aplicar a trasnformação com CountVectorizer()\n",
    "vect = CountVectorizer()\n",
    "\n",
    "vect.fit(X_train)\n",
    "X_train_vect = vect.transform(X_train)\n",
    "X_test_vect = vect.transform(X_test)"
   ]
  },
  {
   "cell_type": "code",
   "execution_count": 18,
   "metadata": {},
   "outputs": [],
   "source": [
    "Tfidf = TfidfTransformer()\n",
    "X_train_vect = Tfidf.fit_transform(X_train_vect)\n",
    "X_test_vect = Tfidf.fit_transform(X_test_vect)"
   ]
  },
  {
   "cell_type": "code",
   "execution_count": 19,
   "metadata": {},
   "outputs": [
    {
     "name": "stdout",
     "output_type": "stream",
     "text": [
      "(14343, 53160)\n",
      "(6148, 53160)\n",
      "(14343,)\n",
      "(6148,)\n"
     ]
    }
   ],
   "source": [
    "print(X_train_vect.shape)\n",
    "print(X_test_vect.shape)\n",
    "print(y_train.shape)\n",
    "print(y_test.shape)"
   ]
  },
  {
   "cell_type": "markdown",
   "metadata": {},
   "source": [
    "## 3) Avaliar com os classificadores árvore de decisão e random forest"
   ]
  },
  {
   "cell_type": "code",
   "execution_count": 20,
   "metadata": {},
   "outputs": [],
   "source": [
    "# Instanciando o modelo\n",
    "decTree = DecisionTreeClassifier()\n",
    "\n",
    "# Treinamento\n",
    "decTree.fit(X_train_vect, y_train)\n",
    "decTree_pred = decTree.predict(X_test_vect)"
   ]
  },
  {
   "cell_type": "code",
   "execution_count": 21,
   "metadata": {},
   "outputs": [],
   "source": [
    "# Instanciando o modelo\n",
    "ranForest = RandomForestClassifier()\n",
    "\n",
    "# Treinamento\n",
    "ranForest.fit(X_train_vect, y_train)\n",
    "ranForest_pred = ranForest.predict(X_test_vect)"
   ]
  },
  {
   "cell_type": "code",
   "execution_count": 22,
   "metadata": {},
   "outputs": [
    {
     "data": {
      "image/png": "[encoded data removed]",
      "text/plain": [
       "<Figure size 640x480 with 2 Axes>"
      ]
     },
     "metadata": {},
     "output_type": "display_data"
    },
    {
     "data": {
      "image/png": "[encoded data removed]",
      "text/plain": [
       "<Figure size 640x480 with 2 Axes>"
      ]
     },
     "metadata": {},
     "output_type": "display_data"
    }
   ],
   "source": [
    "cm = confusion_matrix(y_test, decTree_pred)\n",
    "ConfusionMatrixDisplay(cm).plot()\n",
    "plt.title(\"Classificador Decision Tree\")\n",
    "plt.show()\n",
    "cm = confusion_matrix(y_test, ranForest_pred)\n",
    "ConfusionMatrixDisplay(cm).plot()\n",
    "plt.title(\"Classificador Random Forest\")\n",
    "plt.show()"
   ]
  },
  {
   "cell_type": "code",
   "execution_count": 23,
   "metadata": {},
   "outputs": [
    {
     "name": "stdout",
     "output_type": "stream",
     "text": [
      "Decision Tree Classifier\n",
      "                 precision    recall  f1-score   support\n",
      "\n",
      "Negative Rating       0.56      0.55      0.56      1620\n",
      "Positive Rating       0.84      0.85      0.84      4528\n",
      "\n",
      "       accuracy                           0.77      6148\n",
      "      macro avg       0.70      0.70      0.70      6148\n",
      "   weighted avg       0.77      0.77      0.77      6148\n",
      "\n",
      "Random Forest Classifier\n",
      "                 precision    recall  f1-score   support\n",
      "\n",
      "Negative Rating       0.96      0.37      0.54      1620\n",
      "Positive Rating       0.82      0.99      0.90      4528\n",
      "\n",
      "       accuracy                           0.83      6148\n",
      "      macro avg       0.89      0.68      0.72      6148\n",
      "   weighted avg       0.85      0.83      0.80      6148\n",
      "\n"
     ]
    }
   ],
   "source": [
    "# Avaliacao\n",
    "\n",
    "print(\"Decision Tree Classifier\")\n",
    "print( classification_report( y_test, decTree_pred ) )\n",
    "print(\"Random Forest Classifier\")\n",
    "print( classification_report( y_test, ranForest_pred ) )"
   ]
  },
  {
   "cell_type": "markdown",
   "metadata": {},
   "source": [
    "Portanto, conclui-se que o modelo Random Forest possui uma aderência melhor à esta base de dados.   \n",
    "porém, devido ao desbalanceamento das amostras (~75% de classificações positivas), o modelo tem um score melhor quando tentamos predizer classificações positivas. "
   ]
  }
 ],
 "metadata": {
  "kernelspec": {
   "display_name": ".venv",
   "language": "python",
   "name": "python3"
  },
  "language_info": {
   "codemirror_mode": {
    "name": "ipython",
    "version": 3
   },
   "file_extension": ".py",
   "mimetype": "text/x-python",
   "name": "python",
   "nbconvert_exporter": "python",
   "pygments_lexer": "ipython3",
   "version": "3.12.0"
  }
 },
 "nbformat": 4,
 "nbformat_minor": 2
}
